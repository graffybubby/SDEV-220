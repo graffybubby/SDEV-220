{
 "cells": [
  {
   "cell_type": "code",
   "execution_count": 71,
   "id": "9e49745b-517e-4a6a-bdb2-50b82bb2c5fc",
   "metadata": {},
   "outputs": [
    {
     "name": "stdout",
     "output_type": "stream",
     "text": [
      "Seconds in an hour: 3600\n",
      "Seconds in day using method 1, not storing as variable: 86400\n",
      "Seconds in a day using method 2, storing as variable: 86400\n",
      "Seconds per day divided by seconds per hour using method 1, floating point division:\n",
      "Method 1: 24.0\n",
      "Seconds per day divided by seconds per hour using method 2, integer point division:\n",
      "Method 2: 24\n",
      "Method 1 and Method 2 give results: 24.0 , and 24 .\n",
      "These are equivilent numbers, aside from the extra float of \".0\".\n"
     ]
    }
   ],
   "source": [
    "#3.1 Minutes in an hour, seconds in a minute\n",
    "min_per_hour = 60\n",
    "sec_per_min = 60\n",
    "\n",
    "#3.2 Seconds per hour\n",
    "sec_per_hour = min_per_hour * sec_per_min\n",
    "print('Seconds in an hour:', sec_per_hour)\n",
    "\n",
    "#3.3 Seconds per day method 1\n",
    "print('Seconds in day using method 1, not storing as variable:', sec_per_hour * 24)\n",
    "\n",
    "#3.4 Seconds per day method 2\n",
    "sec_per_day = sec_per_hour * 24\n",
    "print('Seconds in a day using method 2, storing as variable:', sec_per_day)\n",
    "\n",
    "#3.5 division method 1\n",
    "method_1 = sec_per_day / sec_per_hour\n",
    "print('Seconds per day divided by seconds per hour using method 1, floating point division:\\nMethod 1:', method_1)\n",
    "\n",
    "#3.6 division method 2\n",
    "method_2 = sec_per_day // sec_per_hour\n",
    "print('Seconds per day divided by seconds per hour using method 2, integer point division:\\nMethod 2:', method_2)\n",
    "\n",
    "# comparison\n",
    "\n",
    "if(method_1 == float(method_2)):\n",
    "    print('Method 1 and Method 2 give results:', method_1, ', and', method_2, '.\\nThese are equivilent numbers, aside from the extra float of \".0\".')\n",
    "else:\n",
    "    print ('These methods do not result in an equivilent number.')\n"
   ]
  },
  {
   "cell_type": "code",
   "execution_count": null,
   "id": "5388baaa-fde3-4e06-97be-9f69cd22423a",
   "metadata": {},
   "outputs": [],
   "source": []
  },
  {
   "cell_type": "code",
   "execution_count": null,
   "id": "f792ea0b-b0aa-4c1e-b0b9-5a50f31e9944",
   "metadata": {},
   "outputs": [],
   "source": []
  }
 ],
 "metadata": {
  "kernelspec": {
   "display_name": "Python [conda env:base] *",
   "language": "python",
   "name": "conda-base-py"
  },
  "language_info": {
   "codemirror_mode": {
    "name": "ipython",
    "version": 3
   },
   "file_extension": ".py",
   "mimetype": "text/x-python",
   "name": "python",
   "nbconvert_exporter": "python",
   "pygments_lexer": "ipython3",
   "version": "3.12.7"
  }
 },
 "nbformat": 4,
 "nbformat_minor": 5
}
