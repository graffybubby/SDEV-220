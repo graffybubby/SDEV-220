{
 "cells": [
  {
   "cell_type": "code",
   "execution_count": 10,
   "id": "9e7c2006-34ff-4d7f-8675-95371c240979",
   "metadata": {},
   "outputs": [
    {
     "name": "stdout",
     "output_type": "stream",
     "text": [
      "Oops, Too low!\n"
     ]
    }
   ],
   "source": [
    "#4.1\n",
    "secret, guess = 7, 5\n",
    "if guess < secret:\n",
    "    print('Oops, Too low!')\n",
    "elif guess > secret:\n",
    "    print('Oops, too high!')\n",
    "elif guess == secret:\n",
    "    print('Just right!')\n",
    "else:\n",
    "    print('Unknown error.')"
   ]
  },
  {
   "cell_type": "code",
   "execution_count": 5,
   "id": "306a9602-27c4-4acd-acf4-9f8e31aa86e4",
   "metadata": {},
   "outputs": [
    {
     "name": "stdout",
     "output_type": "stream",
     "text": [
      "Watermelon!\n"
     ]
    }
   ],
   "source": [
    "#4.2\n",
    "green, small = True, False\n",
    "if green and small:\n",
    "    print('Pea!')\n",
    "elif green and not small:\n",
    "    print('Watermelon!')\n",
    "elif not green and small:\n",
    "    print('Cherry!')\n",
    "elif green and small == False:\n",
    "    print('Pumpkin!')\n",
    "    \n",
    "\n"
   ]
  },
  {
   "cell_type": "code",
   "execution_count": 1,
   "id": "ecde0051-5843-411e-8030-83e5d2cfcf4d",
   "metadata": {},
   "outputs": [
    {
     "name": "stdout",
     "output_type": "stream",
     "text": [
      "3\n",
      "2\n",
      "1\n",
      "0\n"
     ]
    }
   ],
   "source": [
    "#6.1\n",
    "for number in range(3, -1, -1):\n",
    "    print(number)"
   ]
  },
  {
   "cell_type": "code",
   "execution_count": 8,
   "id": "c03a47d2-c025-4189-87b3-0d4fad7ad22e",
   "metadata": {},
   "outputs": [
    {
     "name": "stdout",
     "output_type": "stream",
     "text": [
      "Too low!\n",
      "Too low!\n",
      "Too low!\n",
      "Too low!\n",
      "Too low!\n",
      "Too low!\n",
      "Found it!\n"
     ]
    }
   ],
   "source": [
    "#6.2\n",
    "guess_me = 7\n",
    "number = 1\n",
    "while True:\n",
    "    if number == guess_me:\n",
    "        print(\"Found it!\")\n",
    "        break\n",
    "    elif number < guess_me:\n",
    "        print(\"Too low!\")\n",
    "        number += 1\n",
    "    else:\n",
    "        print(\"Oops!\")\n",
    "        break\n"
   ]
  },
  {
   "cell_type": "code",
   "execution_count": 11,
   "id": "6146610c-35b3-43d3-88d6-a1c6a2bbfc5a",
   "metadata": {},
   "outputs": [
    {
     "name": "stdout",
     "output_type": "stream",
     "text": [
      "Too low!\n",
      "Too low!\n",
      "Too low!\n",
      "Too low!\n",
      "Too low!\n",
      "Found it!\n"
     ]
    }
   ],
   "source": [
    "#6.3\n",
    "guess_me = 5\n",
    "for number in range(10):\n",
    "    if number < guess_me:\n",
    "        print(\"Too low!\")\n",
    "    elif number == guess_me:\n",
    "        print(\"Found it!\")\n",
    "        break\n",
    "    else:\n",
    "        print(\"Oops!\")\n",
    "        break"
   ]
  },
  {
   "cell_type": "code",
   "execution_count": null,
   "id": "5b565c8b-4356-4c63-a2ab-09f18a2afecf",
   "metadata": {},
   "outputs": [],
   "source": []
  }
 ],
 "metadata": {
  "kernelspec": {
   "display_name": "Python 3 (ipykernel)",
   "language": "python",
   "name": "python3"
  },
  "language_info": {
   "codemirror_mode": {
    "name": "ipython",
    "version": 3
   },
   "file_extension": ".py",
   "mimetype": "text/x-python",
   "name": "python",
   "nbconvert_exporter": "python",
   "pygments_lexer": "ipython3",
   "version": "3.12.8"
  }
 },
 "nbformat": 4,
 "nbformat_minor": 5
}
