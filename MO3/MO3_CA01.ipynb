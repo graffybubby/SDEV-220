{
 "cells": [
  {
   "cell_type": "code",
   "execution_count": 21,
   "id": "275ce2a2-f6f5-4133-ac48-d4755f13a17a",
   "metadata": {},
   "outputs": [
    {
     "name": "stdout",
     "output_type": "stream",
     "text": [
      "mozzarella , Cinderella , salmonella\n",
      "MOZZARELLA, CINDERELLA, SALMONELLA\n",
      "['mozzarella', 'cinderella']\n"
     ]
    }
   ],
   "source": [
    "#7.4\n",
    "things = [\"mozzarella\", \"cinderella\", \"salmonella\"]\n",
    "\n",
    "#7.5\n",
    "print(things[0], ',', things[1].capitalize(), ',', things[2])\n",
    "# Yes it did change the element.\n",
    "\n",
    "#7.6\n",
    "\n",
    "print(', '.join(things).upper())\n",
    "\n",
    "#7.7\n",
    "things.remove(\"salmonella\")\n",
    "print(things)\n"
   ]
  },
  {
   "cell_type": "code",
   "execution_count": 24,
   "id": "4b95bb86-90b1-4e6a-b8e7-3eaf3ab30442",
   "metadata": {},
   "outputs": [
    {
     "name": "stdout",
     "output_type": "stream",
     "text": [
      "5\n"
     ]
    }
   ],
   "source": [
    "#9.1\n",
    "def good():\n",
    "    names = [\"Harry\", \"Ron\", \"Hermione\"]\n",
    "    return names\n",
    "#9.2\n",
    "def get_odds():\n",
    "    for num in range(10):\n",
    "        if num % 2 != 0:\n",
    "            yield num\n",
    "\n",
    "count = 0\n",
    "for odd in get_odds():\n",
    "    count +=1\n",
    "    if count == 3:\n",
    "        print(odd)\n",
    "        break\n",
    "        \n",
    "        "
   ]
  },
  {
   "cell_type": "code",
   "execution_count": null,
   "id": "db878c49-ed56-4eaa-a19e-30f3ce9def11",
   "metadata": {},
   "outputs": [],
   "source": []
  }
 ],
 "metadata": {
  "kernelspec": {
   "display_name": "Python 3 (ipykernel)",
   "language": "python",
   "name": "python3"
  },
  "language_info": {
   "codemirror_mode": {
    "name": "ipython",
    "version": 3
   },
   "file_extension": ".py",
   "mimetype": "text/x-python",
   "name": "python",
   "nbconvert_exporter": "python",
   "pygments_lexer": "ipython3",
   "version": "3.12.8"
  }
 },
 "nbformat": 4,
 "nbformat_minor": 5
}
