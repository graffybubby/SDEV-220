{
 "cells": [
  {
   "cell_type": "code",
   "execution_count": null,
   "id": "2b9c3c89-4c8e-47cd-88b5-4efd1c8fc9cf",
   "metadata": {},
   "outputs": [],
   "source": [
    "# sort array of 0 1 and 2\n",
    "class Solution:\n",
    "    def sort012(self, arr):\n",
    "        count0 = arr.count(0)\n",
    "        count1 = arr.count(1)\n",
    "        count2 = arr.count(2)\n",
    "        arr[:] = [0] * count0 + [1] * count1 + [2] * count2\n",
    "        return arr"
   ]
  },
  {
   "cell_type": "code",
   "execution_count": null,
   "id": "a42db370-20bd-49fe-a954-ef003c79c0d8",
   "metadata": {},
   "outputs": [],
   "source": [
    "# binary search\n",
    "def binary_search(arr, k):\n",
    "    low = 0\n",
    "    high = len(arr) - 1\n",
    "    result = -1\n",
    "\n",
    "    while low <= high:\n",
    "        mid = (low + high) // 2\n",
    "        if arr[mid] == k:\n",
    "            result = mid\n",
    "            high = mid - 1\n",
    "        elif arr[mid] < k:\n",
    "            low = mid + 1\n",
    "        else:\n",
    "            high = mid - 1\n",
    "\n",
    "    return result"
   ]
  }
 ],
 "metadata": {
  "kernelspec": {
   "display_name": "Python 3 (ipykernel)",
   "language": "python",
   "name": "python3"
  },
  "language_info": {
   "codemirror_mode": {
    "name": "ipython",
    "version": 3
   },
   "file_extension": ".py",
   "mimetype": "text/x-python",
   "name": "python",
   "nbconvert_exporter": "python",
   "pygments_lexer": "ipython3",
   "version": "3.12.8"
  }
 },
 "nbformat": 4,
 "nbformat_minor": 5
}
