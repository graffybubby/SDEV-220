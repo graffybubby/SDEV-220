{
 "cells": [
  {
   "cell_type": "code",
   "execution_count": 6,
   "id": "6923ef7d-3e35-42b6-9602-6e9b917f8f86",
   "metadata": {},
   "outputs": [
    {
     "name": "stdout",
     "output_type": "stream",
     "text": [
      "Open from 9-5 daily!\n"
     ]
    }
   ],
   "source": [
    "#11.1\n",
    "import zoo\n",
    "print(zoo.hours())"
   ]
  },
  {
   "cell_type": "code",
   "execution_count": 13,
   "id": "f226b072-a912-432a-a08c-fc17ddb3a084",
   "metadata": {},
   "outputs": [
    {
     "name": "stdout",
     "output_type": "stream",
     "text": [
      "Open from 9-5 daily!\n"
     ]
    }
   ],
   "source": [
    "#11.2\n",
    "import zoo as menagerie\n",
    "print(menagerie.hours())"
   ]
  },
  {
   "cell_type": "code",
   "execution_count": 5,
   "id": "61ca3c23-3931-4d8b-be26-300e6a89462b",
   "metadata": {},
   "outputs": [
    {
     "name": "stdout",
     "output_type": "stream",
     "text": [
      "Perdido Street Station\n",
      "Small Gods\n",
      "The Spellman Files\n",
      "The Weirdstone of Brisingamen\n",
      "Thud!\n"
     ]
    }
   ],
   "source": [
    "#16.8 (which is actually 16.2 - 16.8)\n",
    "import sqlite3\n",
    "import csv\n",
    "import sqlalchemy as sa\n",
    "import sqlalchemy.orm as sao\n",
    "from sqlalchemy import Column, Integer, String\n",
    "\n",
    "csv_filename = \"books2.csv\"\n",
    "csv_data = \"\"\"title,author,year\n",
    "The Weirdstone of Brisingamen,Alan Garner,1960\n",
    "Perdido Street Station,China Miéville,2000\n",
    "Thud!,Terry Pratchett,2005\n",
    "The Spellman Files,Lisa Lutz,2007\n",
    "Small Gods,Terry Pratchett,1992\n",
    "\"\"\"\n",
    "\n",
    "with open(csv_filename, \"w\") as file:\n",
    "    file.write(csv_data)\n",
    "\n",
    "\n",
    "conn = sqlite3.connect(\"books.db\")\n",
    "curs = conn.cursor()\n",
    "\n",
    "curs.execute('''CREATE TABLE IF NOT EXISTS book\n",
    "(title TEXT PRIMARY KEY, author TEXT, year INT)''')\n",
    "\n",
    "conn.commit()\n",
    "\n",
    "\n",
    "with open(csv_filename, \"r\") as file:\n",
    "    reader = csv.DictReader(file)\n",
    "    books = [(row[\"title\"], row[\"author\"], int(row[\"year\"])) for row in reader]\n",
    "\n",
    "curs.executemany(\"INSERT OR IGNORE INTO book (title, author, year) VALUES (?, ?, ?)\", books)\n",
    "conn.commit()\n",
    "conn.close()\n",
    "\n",
    "\n",
    "engine = sa.create_engine(\"sqlite:///books.db\", echo=False)\n",
    "Session = sao.sessionmaker(bind=engine)\n",
    "session = Session()\n",
    "Base = sao.declarative_base()\n",
    "\n",
    "class Book(Base):\n",
    "    __tablename__ = \"book\"\n",
    "    title = Column(String, primary_key=True)\n",
    "    author = Column(String)\n",
    "    year = Column(Integer)\n",
    "\n",
    "Base.metadata.create_all(engine)\n",
    "\n",
    "\n",
    "for book in session.query(Book.title).order_by(Book.title):\n",
    "    print(book[0])\n",
    "\n",
    "session.close()"
   ]
  },
  {
   "cell_type": "code",
   "execution_count": null,
   "id": "ad17a00f-317e-4882-8ca9-04c0db0bca31",
   "metadata": {},
   "outputs": [],
   "source": []
  },
  {
   "cell_type": "code",
   "execution_count": null,
   "id": "48ca24c8-556d-4089-9c98-86b38f8c1d24",
   "metadata": {},
   "outputs": [],
   "source": []
  },
  {
   "cell_type": "code",
   "execution_count": null,
   "id": "253ce1ba-84df-4ae1-8af4-83054b9a10e0",
   "metadata": {},
   "outputs": [],
   "source": []
  }
 ],
 "metadata": {
  "kernelspec": {
   "display_name": "Python [conda env:base] *",
   "language": "python",
   "name": "conda-base-py"
  },
  "language_info": {
   "codemirror_mode": {
    "name": "ipython",
    "version": 3
   },
   "file_extension": ".py",
   "mimetype": "text/x-python",
   "name": "python",
   "nbconvert_exporter": "python",
   "pygments_lexer": "ipython3",
   "version": "3.12.7"
  }
 },
 "nbformat": 4,
 "nbformat_minor": 5
}
