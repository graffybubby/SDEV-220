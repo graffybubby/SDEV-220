{
 "cells": [
  {
   "cell_type": "code",
   "execution_count": 8,
   "id": "cde78156-e2ef-4b3d-b2e7-78492fea9003",
   "metadata": {
    "scrolled": true
   },
   "outputs": [],
   "source": [
    "#13.1\n",
    "from datetime import datetime as dt\n",
    "\n",
    "# open today.txt in write mode, create today.txt if not in directory\n",
    "output = open(\"today.txt\", \"w\")\n",
    "\n",
    "# print the current date into today.txt\n",
    "print(dt.today(), file = output)\n",
    "\n",
    "# close today.txt\n",
    "output.close()"
   ]
  },
  {
   "cell_type": "code",
   "execution_count": 10,
   "id": "79d8cde0-2df9-4754-826d-66f11757fda9",
   "metadata": {},
   "outputs": [
    {
     "name": "stdout",
     "output_type": "stream",
     "text": [
      "Todays date:\n",
      "Year:2025\n",
      "Month:02\n",
      "Day:21\n"
     ]
    }
   ],
   "source": [
    "#13.2\n",
    "\n",
    "# open today.txt in read mode\n",
    "data = open(\"today.txt\", \"r\")\n",
    "\n",
    "# read the data as a string into today_string\n",
    "today_string = data.read()\n",
    "\n",
    "data.close()\n",
    "\n",
    "date_and_time = today_string.split(' ')\n",
    "date = date_and_time[0].split('-')\n",
    "\n",
    "y = date[0]\n",
    "m = date[1]\n",
    "d = date[2]\n",
    "\n",
    "print(f\"Todays date:\\nYear:{y}\\nMonth:{m}\\nDay:{d}\")\n"
   ]
  },
  {
   "cell_type": "code",
   "execution_count": 2,
   "id": "0662782b-cbdf-46c4-8d4e-7fd861110e6d",
   "metadata": {},
   "outputs": [
    {
     "name": "stderr",
     "output_type": "stream",
     "text": [
      "Traceback (most recent call last):\n",
      "  File \"<string>\", line 1, in <module>\n",
      "  File \"/opt/anaconda3/lib/python3.12/multiprocessing/spawn.py\", line 122, in spawn_main\n",
      "    exitcode = _main(fd, parent_sentinel)\n",
      "               ^^^^^^^^^^^^^^^^^^^^^^^^^^\n",
      "  File \"/opt/anaconda3/lib/python3.12/multiprocessing/spawn.py\", line 132, in _main\n",
      "    self = reduction.pickle.load(from_parent)\n",
      "           ^^^^^^^^^^^^^^^^^^^^^^^^^^^^^^^^^^\n",
      "AttributeError: Can't get attribute 'proc' on <module '__main__' (<class '_frozen_importlib.BuiltinImporter'>)>\n",
      "Traceback (most recent call last):\n",
      "  File \"<string>\", line 1, in <module>\n",
      "  File \"/opt/anaconda3/lib/python3.12/multiprocessing/spawn.py\", line 122, in spawn_main\n",
      "    exitcode = _main(fd, parent_sentinel)\n",
      "               ^^^^^^^^^^^^^^^^^^^^^^^^^^\n",
      "  File \"/opt/anaconda3/lib/python3.12/multiprocessing/spawn.py\", line 132, in _main\n",
      "    self = reduction.pickle.load(from_parent)\n",
      "           ^^^^^^^^^^^^^^^^^^^^^^^^^^^^^^^^^^\n",
      "AttributeError: Can't get attribute 'proc' on <module '__main__' (<class '_frozen_importlib.BuiltinImporter'>)>\n"
     ]
    }
   ],
   "source": [
    "#15.1\n",
    "\n",
    "# IMPORTANT NOTE IMPORTANT NOTE IMPORTANT NOTE IMPORTANT NOTE IMPORTANT NOTE\n",
    "\n",
    "# This will not run in my jupyter notebook; However, it does run just fine in VS code.\n",
    "# I believe this is because the jupyter notebook is not very fond of multiprocessing.\n",
    "\n",
    "# IMPORTANT NOTE IMPORTANT NOTE IMPORTANT NOTE IMPORTANT NOTE IMPORTANT NOTE\n",
    "\n",
    "import random as r\n",
    "import multiprocessing\n",
    "import datetime as dt\n",
    "import time\n",
    "import os\n",
    "\n",
    "# funcition that prints a processes id and displays a response from the process through the attribute 'data'\n",
    "def proc(data):\n",
    "    print(\"Process %s output: %s!\" % (os.getpid(),data,))\n",
    "          \n",
    "\n",
    "if __name__ == \"__main__\":\n",
    "    # loop 3 times\n",
    "    for i in range(3):\n",
    "        # sleep for a random amount of time between 0 and 1\n",
    "        time.sleep(r.random())\n",
    "        # get the current time \n",
    "        now = dt.datetime.now().time()\n",
    "        # define process that runs the proc function and inputs a string concatinated with the current time as its argument\n",
    "        p = multiprocessing.Process(target=proc,\n",
    "          args=(\"The current time is: %s\" % now,))\n",
    "        # start the process\n",
    "        p.start()\n"
   ]
  },
  {
   "cell_type": "code",
   "execution_count": null,
   "id": "2838cf26-5431-4aba-b8de-5400a05d7f0f",
   "metadata": {},
   "outputs": [],
   "source": []
  },
  {
   "cell_type": "code",
   "execution_count": null,
   "id": "fed1de47-b0d6-4ca2-93a8-1c6e32897303",
   "metadata": {},
   "outputs": [],
   "source": []
  },
  {
   "cell_type": "code",
   "execution_count": null,
   "id": "b439c1ae-c6ed-454d-8b69-7af0df9ea74e",
   "metadata": {},
   "outputs": [],
   "source": []
  }
 ],
 "metadata": {
  "kernelspec": {
   "display_name": "Python [conda env:base] *",
   "language": "python",
   "name": "conda-base-py"
  },
  "language_info": {
   "codemirror_mode": {
    "name": "ipython",
    "version": 3
   },
   "file_extension": ".py",
   "mimetype": "text/x-python",
   "name": "python",
   "nbconvert_exporter": "python",
   "pygments_lexer": "ipython3",
   "version": "3.12.7"
  }
 },
 "nbformat": 4,
 "nbformat_minor": 5
}
